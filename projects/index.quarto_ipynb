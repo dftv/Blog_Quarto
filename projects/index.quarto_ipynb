{
  "cells": [
    {
      "cell_type": "markdown",
      "metadata": {},
      "source": [
        "---\n",
        "title: \"Projects\"\n",
        "description: \"A collection of in-depth work, showcasing processes, iterations, and final results that evolve into functional products or tools.\"\n",
        "\n",
        "page-layout: full\n",
        "\n",
        "listing:\n",
        "  id: projects-list\n",
        "  contents: .\n",
        "  sort: \"date desc\"\n",
        "  type: grid\n",
        "  categories: true\n",
        "  filter-ui: false\n",
        "  sort-ui: [date, title]\n",
        "  fields: \n",
        "    - image\n",
        "    - title\n",
        "    - subtitle\n",
        "    - categories\n",
        "    - description\n",
        "    - date\n",
        "\n",
        "draft: false\n",
        "---"
      ],
      "id": "b050564e"
    },
    {
      "cell_type": "code",
      "metadata": {},
      "source": [
        "# | echo: false\n",
        "# | output: asis\n",
        "import sys\n",
        "import os\n",
        "\n",
        "sys.path.append(os.path.abspath(\"..\"))\n",
        "\n",
        "from widgets import noticeWidget"
      ],
      "id": "3385557c",
      "execution_count": null,
      "outputs": []
    },
    {
      "cell_type": "code",
      "metadata": {},
      "source": [
        "# | echo: false\n",
        "# | output: asis\n",
        "noticeWidget()"
      ],
      "id": "9cf93e4b",
      "execution_count": null,
      "outputs": []
    },
    {
      "cell_type": "markdown",
      "metadata": {},
      "source": [
        "::: {#projects-list}\n",
        ":::"
      ],
      "id": "7d829dbe"
    }
  ],
  "metadata": {
    "kernelspec": {
      "display_name": "Python 3",
      "language": "python",
      "name": "python3"
    }
  },
  "nbformat": 4,
  "nbformat_minor": 5
}