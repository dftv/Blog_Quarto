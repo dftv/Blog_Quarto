{
  "cells": [
    {
      "cell_type": "markdown",
      "metadata": {},
      "source": [
        "---\n",
        "title: \"Articles\"\n",
        "description: \"In-depth analyses and reflections on specific topics, providing detailed insights and perspectives.\"\n",
        "\n",
        "page-layout: full\n",
        "\n",
        "listing:\n",
        "  id: articles-list\n",
        "  contents: .\n",
        "  sort: \"date desc\"\n",
        "  type: default\n",
        "  categories: true\n",
        "  filter-ui: false\n",
        "  sort-ui: [date, title]\n",
        "  fields: \n",
        "    - image\n",
        "    - date\n",
        "    - reading_time\n",
        "    - title\n",
        "    - categories\n",
        "    - description\n",
        "\n",
        "draft: false\n",
        "---"
      ],
      "id": "9d10105c"
    },
    {
      "cell_type": "code",
      "metadata": {},
      "source": [
        "# | echo: false\n",
        "# | output: asis\n",
        "import sys\n",
        "import os\n",
        "\n",
        "sys.path.append(os.path.abspath(\"..\"))\n",
        "\n",
        "from widgets import noticeWidget"
      ],
      "id": "a607a59c",
      "execution_count": null,
      "outputs": []
    },
    {
      "cell_type": "code",
      "metadata": {},
      "source": [
        "# | echo: false\n",
        "# | output: asis\n",
        "noticeWidget()"
      ],
      "id": "7b30b717",
      "execution_count": null,
      "outputs": []
    },
    {
      "cell_type": "markdown",
      "metadata": {},
      "source": [
        "::: {#articles-list}\n",
        ":::"
      ],
      "id": "ee5bedb3"
    }
  ],
  "metadata": {
    "kernelspec": {
      "display_name": "Python 3",
      "language": "python",
      "name": "python3"
    }
  },
  "nbformat": 4,
  "nbformat_minor": 5
}