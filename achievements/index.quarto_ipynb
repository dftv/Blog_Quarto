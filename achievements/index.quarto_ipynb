{
  "cells": [
    {
      "cell_type": "markdown",
      "metadata": {},
      "source": [
        "---\n",
        "title: \"Achievements\"\n",
        "description: \"Personal milestones, events, and accomplishments.\"\n",
        "\n",
        "page-layout: full\n",
        "\n",
        "listing:\n",
        "  id: achievements-list\n",
        "  contents: .\n",
        "  sort: \"date desc\"\n",
        "  type: grid\n",
        "  categories: true\n",
        "  filter-ui: false\n",
        "  sort-ui: [date, title]\n",
        "  fields: \n",
        "    - image\n",
        "    - title\n",
        "    - subtitle\n",
        "    - categories\n",
        "    - description\n",
        "    - date\n",
        "\n",
        "draft: false\n",
        "---"
      ],
      "id": "80ff6a92"
    },
    {
      "cell_type": "code",
      "metadata": {},
      "source": [
        "# | echo: false\n",
        "# | output: asis\n",
        "import sys\n",
        "import os\n",
        "\n",
        "sys.path.append(os.path.abspath(\"..\"))\n",
        "\n",
        "from widgets import noticeWidget"
      ],
      "id": "da45e05d",
      "execution_count": null,
      "outputs": []
    },
    {
      "cell_type": "code",
      "metadata": {},
      "source": [
        "# | echo: false\n",
        "# | output: asis\n",
        "noticeWidget()"
      ],
      "id": "f0a4061d",
      "execution_count": null,
      "outputs": []
    },
    {
      "cell_type": "markdown",
      "metadata": {},
      "source": [
        "::: {#achievements-list}\n",
        ":::"
      ],
      "id": "cf5750b7"
    }
  ],
  "metadata": {
    "kernelspec": {
      "display_name": "Python 3",
      "language": "python",
      "name": "python3"
    }
  },
  "nbformat": 4,
  "nbformat_minor": 5
}